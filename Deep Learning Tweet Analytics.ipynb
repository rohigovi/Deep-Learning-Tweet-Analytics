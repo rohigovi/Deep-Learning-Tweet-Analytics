{
 "cells": [
  {
   "cell_type": "markdown",
   "metadata": {},
   "source": [
    "# Deep Learning Tweet Analytics"
   ]
  },
  {
   "cell_type": "markdown",
   "metadata": {},
   "source": [
    "Let's look into predicting whether a tweet has positive or negative sentiment.\n",
    "\n",
    "** We first read in the tweet data present in train.csv file.\n",
    "\n",
    "Keep only the sentiment and sentiment text in the data - the first and the last coumn\n",
    "\n",
    "Print the number of positive and negative sentiment labels"
   ]
  },
  {
   "cell_type": "code",
   "execution_count": 25,
   "metadata": {},
   "outputs": [
    {
     "name": "stdout",
     "output_type": "stream",
     "text": [
      "0 corresponds to Negative Sentiments & 1 corresponds to Positive sentiments\n",
      "0    800000\n",
      "1    800000\n",
      "Name: 0, dtype: int64\n"
     ]
    }
   ],
   "source": [
    "# your code here\n",
    "import pandas as pd\n",
    "\n",
    "train = pd.read_csv('./HW3-data/train.csv',encoding='iso8859',header=None)\n",
    "train = train.drop(columns=[1,2,3,4])\n",
    "train_arr = train.values\n",
    "print(\"0 corresponds to Negative Sentiments & 1 corresponds to Positive sentiments\")\n",
    "print(train[0].value_counts())"
   ]
  },
  {
   "cell_type": "code",
   "execution_count": 26,
   "metadata": {},
   "outputs": [
    {
     "name": "stdout",
     "output_type": "stream",
     "text": [
      "Negative Tweets in Sampled Training Data:  10077\n",
      "Positive Tweets in Sampled Training Data:  9923\n"
     ]
    }
   ],
   "source": [
    "from random import sample\n",
    "train_arr_small = np.array(sample(list(train_arr),20000))\n",
    "print(\"Negative Tweets in Sampled Training Data: \",len(train_arr_small[train_arr_small[:,0] == 0]))\n",
    "print(\"Positive Tweets in Sampled Training Data: \",len(train_arr_small[train_arr_small[:,0] == 1]))"
   ]
  },
  {
   "cell_type": "markdown",
   "metadata": {},
   "source": [
    "## Setting up an LSTM"
   ]
  },
  {
   "cell_type": "code",
   "execution_count": 27,
   "metadata": {},
   "outputs": [],
   "source": [
    "# your code here\n",
    "proper_train_size = int(len(train_arr_small) * 0.8)\n",
    "val_size = len(train_arr_small) - proper_train_size\n",
    "proper_train_dataset, val_dataset = torch.utils.data.random_split(train_arr_small,\n",
    "                                                                  [proper_train_size,\n",
    "                                                                   val_size])"
   ]
  },
  {
   "cell_type": "code",
   "execution_count": 28,
   "metadata": {},
   "outputs": [],
   "source": [
    "from torchnlp.encoders.text import SpacyEncoder\n",
    "encoder = SpacyEncoder([data[1] for data in proper_train_dataset])\n",
    "proper_train_encoded = [encoder.encode(data[1]) for data in proper_train_dataset]"
   ]
  },
  {
   "cell_type": "code",
   "execution_count": 29,
   "metadata": {},
   "outputs": [
    {
     "name": "stdout",
     "output_type": "stream",
     "text": [
      "[1\n",
      " '@laurajdavis Do not complain - the sun will go away!  I really it want it to stay for the next 3 months!!! ']\n",
      "tensor([11, 12, 13, 14, 15, 16, 17, 18, 19, 20, 21, 22, 23, 24, 25, 26, 25, 27,\n",
      "        28, 29, 16, 30, 31, 32, 21, 21, 21])\n",
      "['@laurajdavis', 'Do', 'not', 'complain', '-', 'the', 'sun', 'will', 'go', 'away', '!', ' ', 'I', 'really', 'it', 'want', 'it', 'to', 'stay', 'for', 'the', 'next', '3', 'months', '!', '!', '!']\n"
     ]
    }
   ],
   "source": [
    "print(proper_train_dataset[1])\n",
    "print(proper_train_encoded[1])\n",
    "print([encoder.vocab[word_idx] for word_idx in proper_train_encoded[1]])"
   ]
  },
  {
   "cell_type": "code",
   "execution_count": 30,
   "metadata": {},
   "outputs": [],
   "source": [
    "proper_train_labels = torch.tensor([data[0] for data in proper_train_dataset])\n",
    "val_encoded = [encoder.encode(data[1]) for data in val_dataset]\n",
    "val_labels = torch.tensor([data[0] for data in val_dataset])\n",
    "proper_train_dataset_encoded = list(zip(proper_train_encoded, proper_train_labels))\n",
    "val_dataset_encoded = list(zip(val_encoded, val_labels))"
   ]
  },
  {
   "cell_type": "code",
   "execution_count": 31,
   "metadata": {},
   "outputs": [
    {
     "data": {
      "text/plain": [
       "['<pad>', '<unk>', '</s>', '<s>', '<copy>']"
      ]
     },
     "execution_count": 31,
     "metadata": {},
     "output_type": "execute_result"
    }
   ],
   "source": [
    "# SpacyEncoder by default has <unk> implemented\n",
    "encoder.vocab[:5]"
   ]
  },
  {
   "cell_type": "code",
   "execution_count": 32,
   "metadata": {},
   "outputs": [],
   "source": [
    "from torchnlp.word_to_vector import GloVe\n",
    "pretrained_embedding = GloVe(name='6B', dim=100)"
   ]
  },
  {
   "cell_type": "code",
   "execution_count": 33,
   "metadata": {},
   "outputs": [],
   "source": [
    "embedding_weights = torch.empty(encoder.vocab_size, pretrained_embedding.dim)\n",
    "for i, token in enumerate(encoder.vocab):\n",
    "    embedding_weights[i] = pretrained_embedding[token]"
   ]
  },
  {
   "cell_type": "code",
   "execution_count": 34,
   "metadata": {},
   "outputs": [
    {
     "name": "stdout",
     "output_type": "stream",
     "text": [
      "=============================================================\n",
      "                Kernel Shape Output Shape   Params Mult-Adds\n",
      "Layer                                                       \n",
      "0_0             [100, 31688]  [1, 5, 100]        -         -\n",
      "1_1.LSTM_model             -   [1, 5, 64]  42.496k   41.984k\n",
      "2_2                  [64, 2]       [1, 2]    130.0     128.0\n",
      "-------------------------------------------------------------\n",
      "                         Totals\n",
      "Total params          3.211426M\n",
      "Trainable params        42.626k\n",
      "Non-trainable params    3.1688M\n",
      "Mult-Adds               42.112k\n",
      "=============================================================\n"
     ]
    },
    {
     "name": "stderr",
     "output_type": "stream",
     "text": [
      "C:\\Users\\nahse\\anaconda3\\lib\\site-packages\\torchsummaryX\\torchsummaryX.py:101: FutureWarning: Dropping of nuisance columns in DataFrame reductions (with 'numeric_only=None') is deprecated; in a future version this will raise TypeError.  Select only valid columns before calling the reduction.\n",
      "  df_sum = df.sum()\n"
     ]
    },
    {
     "data": {
      "text/html": [
       "<div>\n",
       "<style scoped>\n",
       "    .dataframe tbody tr th:only-of-type {\n",
       "        vertical-align: middle;\n",
       "    }\n",
       "\n",
       "    .dataframe tbody tr th {\n",
       "        vertical-align: top;\n",
       "    }\n",
       "\n",
       "    .dataframe thead th {\n",
       "        text-align: right;\n",
       "    }\n",
       "</style>\n",
       "<table border=\"1\" class=\"dataframe\">\n",
       "  <thead>\n",
       "    <tr style=\"text-align: right;\">\n",
       "      <th></th>\n",
       "      <th>Kernel Shape</th>\n",
       "      <th>Output Shape</th>\n",
       "      <th>Params</th>\n",
       "      <th>Mult-Adds</th>\n",
       "    </tr>\n",
       "    <tr>\n",
       "      <th>Layer</th>\n",
       "      <th></th>\n",
       "      <th></th>\n",
       "      <th></th>\n",
       "      <th></th>\n",
       "    </tr>\n",
       "  </thead>\n",
       "  <tbody>\n",
       "    <tr>\n",
       "      <th>0_0</th>\n",
       "      <td>[100, 31688]</td>\n",
       "      <td>[1, 5, 100]</td>\n",
       "      <td>NaN</td>\n",
       "      <td>NaN</td>\n",
       "    </tr>\n",
       "    <tr>\n",
       "      <th>1_1.LSTM_model</th>\n",
       "      <td>-</td>\n",
       "      <td>[1, 5, 64]</td>\n",
       "      <td>42496.0</td>\n",
       "      <td>41984.0</td>\n",
       "    </tr>\n",
       "    <tr>\n",
       "      <th>2_2</th>\n",
       "      <td>[64, 2]</td>\n",
       "      <td>[1, 2]</td>\n",
       "      <td>130.0</td>\n",
       "      <td>128.0</td>\n",
       "    </tr>\n",
       "  </tbody>\n",
       "</table>\n",
       "</div>"
      ],
      "text/plain": [
       "                Kernel Shape Output Shape   Params  Mult-Adds\n",
       "Layer                                                        \n",
       "0_0             [100, 31688]  [1, 5, 100]      NaN        NaN\n",
       "1_1.LSTM_model             -   [1, 5, 64]  42496.0    41984.0\n",
       "2_2                  [64, 2]       [1, 2]    130.0      128.0"
      ]
     },
     "execution_count": 34,
     "metadata": {},
     "output_type": "execute_result"
    }
   ],
   "source": [
    "from UDA_pytorch_utils import UDA_LSTMforSequential\n",
    "simple_lstm_model = nn.Sequential(nn.Embedding.from_pretrained(embedding_weights),\n",
    "                                  UDA_LSTMforSequential(100, 64),\n",
    "                                  nn.Linear(64, 2))\n",
    "summary(simple_lstm_model, torch.zeros((1, 5), dtype=torch.long))"
   ]
  },
  {
   "cell_type": "code",
   "execution_count": 35,
   "metadata": {},
   "outputs": [],
   "source": [
    "import os\n",
    "os.makedirs('./saved_model_checkpoints', exist_ok=True)"
   ]
  },
  {
   "cell_type": "markdown",
   "metadata": {},
   "source": [
    "## Hyperparameter Tuning"
   ]
  },
  {
   "cell_type": "code",
   "execution_count": 36,
   "metadata": {},
   "outputs": [
    {
     "data": {
      "application/vnd.jupyter.widget-view+json": {
       "model_id": "4eceb708e80044668a6081428b5ceb98",
       "version_major": 2,
       "version_minor": 0
      },
      "text/plain": [
       "  0%|          | 0/4 [00:00<?, ?it/s]"
      ]
     },
     "metadata": {},
     "output_type": "display_data"
    },
    {
     "name": "stdout",
     "output_type": "stream",
     "text": [
      "=========================\n",
      "Learning Rate used:  0.01\n",
      "Batch Size used:  64\n",
      "Epoch 1 [==================================================] 16000/16000\n",
      "  Train accuracy: 0.5534\n",
      "  Validation accuracy: 0.5500\n",
      "Epoch 2 [==================================================] 16000/16000\n",
      "  Train accuracy: 0.5772\n",
      "  Validation accuracy: 0.5707\n",
      "Epoch 3 [==================================================] 16000/16000\n",
      "  Train accuracy: 0.7053\n",
      "  Validation accuracy: 0.6845\n",
      "Epoch 4 [==================================================] 16000/16000\n",
      "  Train accuracy: 0.7514\n",
      "  Validation accuracy: 0.7177\n",
      "Epoch 5 [==================================================] 16000/16000\n",
      "  Train accuracy: 0.7204\n",
      "  Validation accuracy: 0.6770\n",
      "Epoch 6 [==================================================] 16000/16000\n",
      "  Train accuracy: 0.7558\n",
      "  Validation accuracy: 0.6923\n",
      "Epoch 7 [==================================================] 16000/16000\n",
      "  Train accuracy: 0.7577\n",
      "  Validation accuracy: 0.6887\n",
      "Epoch 8 [==================================================] 16000/16000\n",
      "  Train accuracy: 0.6776\n",
      "  Validation accuracy: 0.6240\n",
      "Epoch 9 [==================================================] 16000/16000\n",
      "  Train accuracy: 0.7396\n",
      "  Validation accuracy: 0.6707\n",
      "Epoch 10 [==================================================] 16000/16000\n",
      "  Train accuracy: 0.6284\n",
      "  Validation accuracy: 0.5843\n",
      "The model at the end of epoch 4 achieved the highest validation accuracy: 0.717750\n",
      "=========================\n",
      "Learning Rate used:  0.01\n",
      "Batch Size used:  128\n",
      "Epoch 1 [==================================================] 16000/16000\n",
      "  Train accuracy: 0.7318\n",
      "  Validation accuracy: 0.6528\n",
      "Epoch 2 [==================================================] 16000/16000\n",
      "  Train accuracy: 0.7744\n",
      "  Validation accuracy: 0.6730\n",
      "Epoch 3 [==================================================] 16000/16000\n",
      "  Train accuracy: 0.5081\n",
      "  Validation accuracy: 0.5108\n",
      "Epoch 4 [==================================================] 16000/16000\n",
      "  Train accuracy: 0.5248\n",
      "  Validation accuracy: 0.5230\n",
      "Epoch 5 [==================================================] 16000/16000\n",
      "  Train accuracy: 0.5295\n",
      "  Validation accuracy: 0.5298\n",
      "Epoch 6 [==================================================] 16000/16000\n",
      "  Train accuracy: 0.5301\n",
      "  Validation accuracy: 0.5347\n",
      "Epoch 7 [==================================================] 16000/16000\n",
      "  Train accuracy: 0.4319\n",
      "  Validation accuracy: 0.4530\n",
      "Epoch 8 [==================================================] 16000/16000\n",
      "  Train accuracy: 0.4673\n",
      "  Validation accuracy: 0.4685\n",
      "Epoch 9 [==================================================] 16000/16000\n",
      "  Train accuracy: 0.4604\n",
      "  Validation accuracy: 0.4647\n",
      "Epoch 10 [==================================================] 16000/16000\n",
      "  Train accuracy: 0.4988\n",
      "  Validation accuracy: 0.5038\n",
      "The model at the end of epoch 2 achieved the highest validation accuracy: 0.673000\n",
      "=========================\n",
      "Learning Rate used:  0.05\n",
      "Batch Size used:  64\n",
      "Epoch 1 [==================================================] 16000/16000\n",
      "  Train accuracy: 0.6275\n",
      "  Validation accuracy: 0.6072\n",
      "Epoch 2 [==================================================] 16000/16000\n",
      "  Train accuracy: 0.6680\n",
      "  Validation accuracy: 0.6412\n",
      "Epoch 3 [==================================================] 16000/16000\n",
      "  Train accuracy: 0.6869\n",
      "  Validation accuracy: 0.6583\n",
      "Epoch 4 [==================================================] 16000/16000\n",
      "  Train accuracy: 0.6973\n",
      "  Validation accuracy: 0.6625\n",
      "Epoch 5 [==================================================] 16000/16000\n",
      "  Train accuracy: 0.6949\n",
      "  Validation accuracy: 0.6615\n",
      "Epoch 6 [==================================================] 16000/16000\n",
      "  Train accuracy: 0.7340\n",
      "  Validation accuracy: 0.6995\n",
      "Epoch 7 [==================================================] 16000/16000\n",
      "  Train accuracy: 0.6757\n",
      "  Validation accuracy: 0.6402\n",
      "Epoch 8 [==================================================] 16000/16000\n",
      "  Train accuracy: 0.7321\n",
      "  Validation accuracy: 0.6967\n",
      "Epoch 9 [==================================================] 16000/16000\n",
      "  Train accuracy: 0.7403\n",
      "  Validation accuracy: 0.6975\n",
      "Epoch 10 [==================================================] 16000/16000\n",
      "  Train accuracy: 0.7076\n",
      "  Validation accuracy: 0.6657\n",
      "The model at the end of epoch 6 achieved the highest validation accuracy: 0.699500\n",
      "=========================\n",
      "Learning Rate used:  0.05\n",
      "Batch Size used:  128\n",
      "Epoch 1 [==================================================] 16000/16000\n",
      "  Train accuracy: 0.7435\n",
      "  Validation accuracy: 0.7017\n",
      "Epoch 2 [==================================================] 16000/16000\n",
      "  Train accuracy: 0.7492\n",
      "  Validation accuracy: 0.7050\n",
      "Epoch 3 [==================================================] 16000/16000\n",
      "  Train accuracy: 0.7483\n",
      "  Validation accuracy: 0.7045\n",
      "Epoch 4 [==================================================] 16000/16000\n",
      "  Train accuracy: 0.7618\n",
      "  Validation accuracy: 0.7030\n",
      "Epoch 5 [==================================================] 16000/16000\n",
      "  Train accuracy: 0.7561\n",
      "  Validation accuracy: 0.6967\n",
      "Epoch 6 [==================================================] 16000/16000\n",
      "  Train accuracy: 0.7351\n",
      "  Validation accuracy: 0.6843\n",
      "Epoch 7 [==================================================] 16000/16000\n",
      "  Train accuracy: 0.7601\n",
      "  Validation accuracy: 0.7027\n",
      "Epoch 8 [==================================================] 16000/16000\n",
      "  Train accuracy: 0.7511\n",
      "  Validation accuracy: 0.6960\n",
      "Epoch 9 [==================================================] 16000/16000\n",
      "  Train accuracy: 0.7471\n",
      "  Validation accuracy: 0.6923\n",
      "Epoch 10 [==================================================] 16000/16000\n",
      "  Train accuracy: 0.7548\n",
      "  Validation accuracy: 0.7053\n",
      "The model at the end of epoch 10 achieved the highest validation accuracy: 0.705250\n"
     ]
    },
    {
     "data": {
      "image/png": "[encoded data removed]",
      "text/plain": [
       "<Figure size 432x288 with 1 Axes>"
      ]
     },
     "metadata": {
      "needs_background": "light"
     },
     "output_type": "display_data"
    },
    {
     "data": {
      "image/png": "[encoded data removed]",
      "text/plain": [
       "<Figure size 432x288 with 1 Axes>"
      ]
     },
     "metadata": {
      "needs_background": "light"
     },
     "output_type": "display_data"
    },
    {
     "data": {
      "image/png": "[encoded data removed]",
      "text/plain": [
       "<Figure size 432x288 with 1 Axes>"
      ]
     },
     "metadata": {
      "needs_background": "light"
     },
     "output_type": "display_data"
    },
    {
     "data": {
      "image/png": "[encoded data removed]",
      "text/plain": [
       "<Figure size 432x288 with 1 Axes>"
      ]
     },
     "metadata": {
      "needs_background": "light"
     },
     "output_type": "display_data"
    }
   ],
   "source": [
    "num_epochs = 10  # during optimization, how many times we look at training data\n",
    "# batch_size = 64  # during optimization, how many training data to use at each step\n",
    "# learning_rate = [0.1,0.05]  # during optimization, how much we nudge our solution at each step\n",
    "\n",
    "\n",
    "hyperparameter_settings = [(learning_rate, batch_size)\n",
    "                           for learning_rate in [0.01,0.05]\n",
    "                           for batch_size in [64,128]]  \n",
    "\n",
    "best_val_acc = -np.inf  # assumes that a higher score is better\n",
    "best_epoch = None\n",
    "best_hp = None\n",
    "from tqdm.notebook import tqdm_notebook\n",
    "for hp_set in tqdm_notebook(hyperparameter_settings):\n",
    "    lr,bs = hp_set\n",
    "    print(\"=========================\")\n",
    "    print(\"Learning Rate used: \",lr)\n",
    "    print(\"Batch Size used: \",bs)\n",
    "    train_accuracies, val_accuracies = \\\n",
    "        UDA_pytorch_classifier_fit(simple_lstm_model,\n",
    "                                   torch.optim.Adam(simple_lstm_model.parameters(),\n",
    "                                                    lr=lr),\n",
    "                                   nn.CrossEntropyLoss(),  # includes softmax\n",
    "                                   proper_train_dataset_encoded, val_dataset_encoded,\n",
    "                                   num_epochs, bs,\n",
    "                                   sequence=True,\n",
    "                                   save_epoch_checkpoint_prefix='./saved_model_checkpoints/twitter_lstm_{}'.format(hp_set))\n",
    "\n",
    "    best_epoch_idx = np.argmax(val_accuracies)\n",
    "    print('The model at the end of epoch %d achieved the highest validation accuracy: %f'\n",
    "          % (best_epoch_idx + 1, val_accuracies[best_epoch_idx]))\n",
    "    \n",
    "    if val_accuracies[best_epoch_idx] > best_val_acc:\n",
    "        best_val_acc = val_accuracies[best_epoch_idx]\n",
    "        best_hp = hp_set\n",
    "        best_epoch = best_epoch_idx+1\n",
    "\n",
    "    UDA_plot_train_val_accuracy_vs_epoch(train_accuracies, val_accuracies)"
   ]
  },
  {
   "cell_type": "code",
   "execution_count": 37,
   "metadata": {},
   "outputs": [
    {
     "name": "stdout",
     "output_type": "stream",
     "text": [
      "The model with parameters (learnig_rate,batch_size) as (0.01, 64) \n",
      " at the end of epoch 4 achieved the highest validation accuracy: 0.71775.\n"
     ]
    },
    {
     "data": {
      "text/plain": [
       "<All keys matched successfully>"
      ]
     },
     "execution_count": 37,
     "metadata": {},
     "output_type": "execute_result"
    }
   ],
   "source": [
    "print(\"The model with parameters (learnig_rate,batch_size) as {} \\n at the end of epoch {} achieved the highest validation accuracy: {}.\".\n",
    "      format(best_hp,best_epoch,best_val_acc))\n",
    "simple_lstm_model.load_state_dict(torch.load('./saved_model_checkpoints/twitter_lstm_{}_epoch{}.pt'.\n",
    "                                             format(best_hp,best_epoch)))"
   ]
  },
  {
   "cell_type": "code",
   "execution_count": 38,
   "metadata": {},
   "outputs": [],
   "source": [
    "test = pd.read_csv('./HW3-data/test.csv',encoding='iso8859',header=None)\n",
    "test = test.drop(columns=[1,2,3,4])\n",
    "test_arr = test.values"
   ]
  },
  {
   "cell_type": "code",
   "execution_count": 39,
   "metadata": {},
   "outputs": [],
   "source": [
    "test_encoded = [encoder.encode(data[1]) for data in test_arr]\n",
    "test_labels = torch.tensor([data[0] for data in test_arr])"
   ]
  },
  {
   "cell_type": "code",
   "execution_count": 40,
   "metadata": {},
   "outputs": [
    {
     "name": "stdout",
     "output_type": "stream",
     "text": [
      "Test accuracy: 0.5542168674698795\n"
     ]
    }
   ],
   "source": [
    "predicted_test_labels = UDA_pytorch_classifier_predict(simple_lstm_model,\n",
    "                                                       test_encoded,\n",
    "                                                       sequence=True)\n",
    "print('Test accuracy:', UDA_compute_accuracy(predicted_test_labels, test_labels))"
   ]
  },
  {
   "cell_type": "markdown",
   "metadata": {},
   "source": [
    "## Comparing LSTM Performance to that of a Random Forest Classifier"
   ]
  },
  {
   "cell_type": "code",
   "execution_count": 45,
   "metadata": {},
   "outputs": [],
   "source": [
    "from sklearn.feature_extraction.text import TfidfVectorizer\n",
    "\n",
    "# Not combining Proper Training and Validation as given in instructions and because Proper Train is a big enough sample. \n",
    "# That is what the LSTM was trained on as well and would remain the same for comparision\n",
    "encoder_vocabdict = {val:idx for idx,val in enumerate(encoder.vocab)}\n",
    "proper_train_encoded_str = [\" \".join(map(str,tweet.numpy().tolist())) for tweet in proper_train_encoded]\n",
    "\n",
    "tf_vectorizer = TfidfVectorizer(stop_words=\"english\", max_df=0.8,vocabulary=encoder_vocabdict,lowercase=False)\n",
    "X_encoded_tf = tf_vectorizer.fit_transform(proper_train_encoded_str)\n",
    "# vocab = list(tf_vectorizer.vocabulary_.keys())\n",
    "tf_vocab = tf_vectorizer.vocabulary_"
   ]
  },
  {
   "cell_type": "code",
   "execution_count": 47,
   "metadata": {},
   "outputs": [
    {
     "name": "stdout",
     "output_type": "stream",
     "text": [
      "Fitting 5 folds for each of 6 candidates, totalling 30 fits\n",
      "The best Hyperparameter setting for RFC with CV accuracy 0.599 is: {'max_features': 0.25, 'min_samples_leaf': 10}\n"
     ]
    }
   ],
   "source": [
    "from sklearn.ensemble import RandomForestClassifier\n",
    "from sklearn.model_selection import GridSearchCV\n",
    "\n",
    "\n",
    "param_grid = {\n",
    "#     'max_depth': [5, 20,None],\n",
    "    'max_features': [\"auto\", 0.25,0.5],\n",
    "    'min_samples_leaf': [1,10]}\n",
    "    \n",
    "rfc = RandomForestClassifier(random_state=0)\n",
    "    \n",
    "grid_search=GridSearchCV(rfc,param_grid=param_grid,cv=5,scoring='accuracy',n_jobs=-1,verbose=2)\n",
    "    \n",
    "grid_search.fit(X_encoded_tf,proper_train_labels)\n",
    "\n",
    "print(\"The best Hyperparameter setting for RFC with CV accuracy {} is: {}\".format(grid_search.best_score_,\n",
    "      grid_search.best_params_))\n",
    "rfc = grid_search.best_estimator_\n"
   ]
  },
  {
   "cell_type": "code",
   "execution_count": 48,
   "metadata": {},
   "outputs": [
    {
     "name": "stdout",
     "output_type": "stream",
     "text": [
      "Test accuracy for Random Forest Classifier: 0.4959839357429719\n"
     ]
    }
   ],
   "source": [
    "test_encoded_str = [\" \".join(map(str,tweet.numpy().tolist())) for tweet in test_encoded]\n",
    "test_encoded_str_tf = tf_vectorizer.transform(test_encoded_str)\n",
    "rfc_pred = rfc.predict(test_encoded_str_tf)\n",
    "print('Test accuracy for Random Forest Classifier:', accuracy_score(test_labels,rfc_pred))"
   ]
  },
  {
   "cell_type": "markdown",
   "metadata": {},
   "source": [
    "The test accuracy with the Baseline Random Forest Classifier was worse than the LSTM but not by a big margin. The Test accuracy of the LSTM was 55.4% as compared to the 49.6% accuracy of the RFC. I would hope that with more data, the LSTM is able to learn more and perform better. ( An earlier run with 60000 data points had given a Test Accuracy of 60% for the LSTM )"
   ]
  }
 ],
 "metadata": {
  "kernelspec": {
   "display_name": "Python 3 (ipykernel)",
   "language": "python",
   "name": "python3"
  },
  "language_info": {
   "codemirror_mode": {
    "name": "ipython",
    "version": 3
   },
   "file_extension": ".py",
   "mimetype": "text/x-python",
   "name": "python",
   "nbconvert_exporter": "python",
   "pygments_lexer": "ipython3",
   "version": "3.9.13"
  }
 },
 "nbformat": 4,
 "nbformat_minor": 2
}
